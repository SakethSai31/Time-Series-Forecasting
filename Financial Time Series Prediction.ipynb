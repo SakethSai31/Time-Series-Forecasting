{
 "cells": [
  {
   "cell_type": "markdown",
   "id": "74064823-4bba-42b3-a269-197e7e4a66e2",
   "metadata": {
    "tags": []
   },
   "source": [
    "# STOCK MARKET PREDICTION"
   ]
  },
  {
   "cell_type": "markdown",
   "id": "d111bf3d-98f7-4b05-8254-dbc658c1ebd3",
   "metadata": {},
   "source": [
    "### Importing the required modules"
   ]
  },
  {
   "cell_type": "code",
   "execution_count": 598,
   "id": "3eed29b2-6b3b-4c11-a5b9-ba24a47e07dd",
   "metadata": {},
   "outputs": [],
   "source": [
    "import pandas as pd\n",
    "import pandas_datareader as web\n",
    "import matplotlib.pyplot as plt\n",
    "import datetime\n",
    "import pandas_ta\n",
    "from sklearn.model_selection import train_test_split\n",
    "from sklearn.linear_model import LinearRegression\n",
    "from sklearn.preprocessing import LabelEncoder\n",
    "from sklearn.metrics import mean_squared_error, r2_score, mean_absolute_error\n",
    "import numpy as np\n",
    "\n",
    "pd.core.common.is_list_like = pd.api.types.is_list_like"
   ]
  },
  {
   "cell_type": "markdown",
   "id": "26c95503-6c3e-4075-b1cf-d92ef3cc3b96",
   "metadata": {},
   "source": [
    "### Using the pandas_datareader we are extracting the historical stock data from 2016 till date "
   ]
  },
  {
   "cell_type": "code",
   "execution_count": 599,
   "id": "fd0c5f72-3efb-48ba-8a4a-a5f770ea7590",
   "metadata": {},
   "outputs": [
    {
     "data": {
      "text/html": [
       "<div>\n",
       "<style scoped>\n",
       "    .dataframe tbody tr th:only-of-type {\n",
       "        vertical-align: middle;\n",
       "    }\n",
       "\n",
       "    .dataframe tbody tr th {\n",
       "        vertical-align: top;\n",
       "    }\n",
       "\n",
       "    .dataframe thead th {\n",
       "        text-align: right;\n",
       "    }\n",
       "</style>\n",
       "<table border=\"1\" class=\"dataframe\">\n",
       "  <thead>\n",
       "    <tr style=\"text-align: right;\">\n",
       "      <th></th>\n",
       "      <th>High</th>\n",
       "      <th>Low</th>\n",
       "      <th>Open</th>\n",
       "      <th>Close</th>\n",
       "      <th>Volume</th>\n",
       "      <th>Adj Close</th>\n",
       "    </tr>\n",
       "    <tr>\n",
       "      <th>Date</th>\n",
       "      <th></th>\n",
       "      <th></th>\n",
       "      <th></th>\n",
       "      <th></th>\n",
       "      <th></th>\n",
       "      <th></th>\n",
       "    </tr>\n",
       "  </thead>\n",
       "  <tbody>\n",
       "    <tr>\n",
       "      <th>2016-01-04</th>\n",
       "      <td>657.719971</td>\n",
       "      <td>627.510010</td>\n",
       "      <td>656.289978</td>\n",
       "      <td>636.989990</td>\n",
       "      <td>9314500</td>\n",
       "      <td>636.989990</td>\n",
       "    </tr>\n",
       "    <tr>\n",
       "      <th>2016-01-05</th>\n",
       "      <td>646.909973</td>\n",
       "      <td>627.650024</td>\n",
       "      <td>646.859985</td>\n",
       "      <td>633.789978</td>\n",
       "      <td>5822600</td>\n",
       "      <td>633.789978</td>\n",
       "    </tr>\n",
       "    <tr>\n",
       "      <th>2016-01-06</th>\n",
       "      <td>639.789978</td>\n",
       "      <td>620.309998</td>\n",
       "      <td>622.000000</td>\n",
       "      <td>632.650024</td>\n",
       "      <td>5329200</td>\n",
       "      <td>632.650024</td>\n",
       "    </tr>\n",
       "    <tr>\n",
       "      <th>2016-01-07</th>\n",
       "      <td>630.000000</td>\n",
       "      <td>605.210022</td>\n",
       "      <td>621.799988</td>\n",
       "      <td>607.940002</td>\n",
       "      <td>7074900</td>\n",
       "      <td>607.940002</td>\n",
       "    </tr>\n",
       "    <tr>\n",
       "      <th>2016-01-08</th>\n",
       "      <td>624.140015</td>\n",
       "      <td>606.000000</td>\n",
       "      <td>619.659973</td>\n",
       "      <td>607.049988</td>\n",
       "      <td>5512900</td>\n",
       "      <td>607.049988</td>\n",
       "    </tr>\n",
       "    <tr>\n",
       "      <th>2016-01-11</th>\n",
       "      <td>619.849976</td>\n",
       "      <td>598.570007</td>\n",
       "      <td>612.479980</td>\n",
       "      <td>617.739990</td>\n",
       "      <td>4891600</td>\n",
       "      <td>617.739990</td>\n",
       "    </tr>\n",
       "    <tr>\n",
       "      <th>2016-01-12</th>\n",
       "      <td>625.989990</td>\n",
       "      <td>612.239990</td>\n",
       "      <td>625.250000</td>\n",
       "      <td>617.890015</td>\n",
       "      <td>4724100</td>\n",
       "      <td>617.890015</td>\n",
       "    </tr>\n",
       "    <tr>\n",
       "      <th>2016-01-13</th>\n",
       "      <td>620.880005</td>\n",
       "      <td>579.159973</td>\n",
       "      <td>620.880005</td>\n",
       "      <td>581.809998</td>\n",
       "      <td>7655200</td>\n",
       "      <td>581.809998</td>\n",
       "    </tr>\n",
       "    <tr>\n",
       "      <th>2016-01-14</th>\n",
       "      <td>602.250000</td>\n",
       "      <td>569.880005</td>\n",
       "      <td>580.250000</td>\n",
       "      <td>593.000000</td>\n",
       "      <td>7238000</td>\n",
       "      <td>593.000000</td>\n",
       "    </tr>\n",
       "    <tr>\n",
       "      <th>2016-01-15</th>\n",
       "      <td>584.619995</td>\n",
       "      <td>565.299988</td>\n",
       "      <td>572.239990</td>\n",
       "      <td>570.179993</td>\n",
       "      <td>7784500</td>\n",
       "      <td>570.179993</td>\n",
       "    </tr>\n",
       "  </tbody>\n",
       "</table>\n",
       "</div>"
      ],
      "text/plain": [
       "                  High         Low        Open       Close   Volume  \\\n",
       "Date                                                                  \n",
       "2016-01-04  657.719971  627.510010  656.289978  636.989990  9314500   \n",
       "2016-01-05  646.909973  627.650024  646.859985  633.789978  5822600   \n",
       "2016-01-06  639.789978  620.309998  622.000000  632.650024  5329200   \n",
       "2016-01-07  630.000000  605.210022  621.799988  607.940002  7074900   \n",
       "2016-01-08  624.140015  606.000000  619.659973  607.049988  5512900   \n",
       "2016-01-11  619.849976  598.570007  612.479980  617.739990  4891600   \n",
       "2016-01-12  625.989990  612.239990  625.250000  617.890015  4724100   \n",
       "2016-01-13  620.880005  579.159973  620.880005  581.809998  7655200   \n",
       "2016-01-14  602.250000  569.880005  580.250000  593.000000  7238000   \n",
       "2016-01-15  584.619995  565.299988  572.239990  570.179993  7784500   \n",
       "\n",
       "             Adj Close  \n",
       "Date                    \n",
       "2016-01-04  636.989990  \n",
       "2016-01-05  633.789978  \n",
       "2016-01-06  632.650024  \n",
       "2016-01-07  607.940002  \n",
       "2016-01-08  607.049988  \n",
       "2016-01-11  617.739990  \n",
       "2016-01-12  617.890015  \n",
       "2016-01-13  581.809998  \n",
       "2016-01-14  593.000000  \n",
       "2016-01-15  570.179993  "
      ]
     },
     "execution_count": 599,
     "metadata": {},
     "output_type": "execute_result"
    }
   ],
   "source": [
    "start = datetime.datetime(2016, 1, 1)\n",
    "end = datetime.datetime(2021, 10, 12)\n",
    "df = web.DataReader('AMZN', 'yahoo', start, end)\n",
    "df.head(10)"
   ]
  },
  {
   "cell_type": "code",
   "execution_count": 600,
   "id": "d4ff07ef-4833-460a-bf7a-275bf9c78c53",
   "metadata": {
    "jupyter": {
     "source_hidden": true
    },
    "tags": []
   },
   "outputs": [],
   "source": [
    "# df.reset_index(inplace=True)"
   ]
  },
  {
   "cell_type": "code",
   "execution_count": 601,
   "id": "72a9f1f7-e1b8-4b7c-a0a9-a92f28232963",
   "metadata": {
    "jupyter": {
     "source_hidden": true
    },
    "tags": []
   },
   "outputs": [],
   "source": [
    "# df.set_index(pd.DatetimeIndex(df['Date']), inplace=True)"
   ]
  },
  {
   "cell_type": "markdown",
   "id": "cf4f7d29-76c8-4bd2-9f9f-8604c328f988",
   "metadata": {},
   "source": [
    "#### We will be using the Adjusted Closing value to create Exponential moving average using the pandas_ta library. Using the below command we are selecting only the required columns"
   ]
  },
  {
   "cell_type": "code",
   "execution_count": 602,
   "id": "df74e53b-edc9-472b-a461-9b9a3d29293b",
   "metadata": {
    "tags": []
   },
   "outputs": [],
   "source": [
    "df = df[['Adj Close']]"
   ]
  },
  {
   "cell_type": "markdown",
   "id": "26ee1185-6929-453b-983a-b83fefe50a8c",
   "metadata": {},
   "source": [
    "#### *Plotting the Amazon Stock Price*"
   ]
  },
  {
   "cell_type": "code",
   "execution_count": 603,
   "id": "e0506e27-3d3d-48b9-9d7e-99cc900bd495",
   "metadata": {
    "tags": []
   },
   "outputs": [
    {
     "data": {
      "text/plain": [
       "<AxesSubplot:title={'center':'Stock Price'}, xlabel='Date'>"
      ]
     },
     "execution_count": 603,
     "metadata": {},
     "output_type": "execute_result"
    },
    {
     "data": {
      "image/png": "[encoded data removed]",
      "text/plain": [
       "<Figure size 432x288 with 1 Axes>"
      ]
     },
     "metadata": {
      "needs_background": "light"
     },
     "output_type": "display_data"
    }
   ],
   "source": [
    "df.plot(title='Stock Price')"
   ]
  },
  {
   "cell_type": "markdown",
   "id": "9dac10af-b36e-494f-9ca9-9f32d4a74c90",
   "metadata": {},
   "source": [
    "Exponential Moving Average - The exponential moving average (EMA) is a weighted average of recent period's prices. It uses an exponentially decreasing weight from each previous price/period. In other words, the formula gives recent prices more weight than past prices.\n",
    "\n",
    "**Exponential Moving Average** = $\\frac{2}{(n+1)}*(Close - Previous EMA )+PreviousEMA$\n",
    "\n",
    "To add our technical indicators like EMA we’ll be using the pandas_ta library. A new column **\"EMA_10\"** will be added to our data which represents the exponential moving average over a 10-day period\n"
   ]
  },
  {
   "cell_type": "code",
   "execution_count": 604,
   "id": "85b0553a-d807-4cf1-86e0-bd98d4bd07aa",
   "metadata": {},
   "outputs": [
    {
     "data": {
      "text/plain": [
       "Date\n",
       "2016-01-04            NaN\n",
       "2016-01-05            NaN\n",
       "2016-01-06            NaN\n",
       "2016-01-07            NaN\n",
       "2016-01-08            NaN\n",
       "                 ...     \n",
       "2021-10-06    3294.484929\n",
       "2021-10-07    3295.929475\n",
       "2021-10-08    3294.600501\n",
       "2021-10-11    3285.818601\n",
       "2021-10-12    3278.820687\n",
       "Name: EMA_10, Length: 1455, dtype: float64"
      ]
     },
     "execution_count": 604,
     "metadata": {},
     "output_type": "execute_result"
    }
   ],
   "source": [
    "df.ta.ema(close='Adj Close', length=10, append=True)"
   ]
  },
  {
   "cell_type": "markdown",
   "id": "2d0423d0-a7cc-4bcc-9545-468a616a24d3",
   "metadata": {},
   "source": [
    "**The first 9 entries in our data will have Nan value since there will be no proceeding values from which the EMA can be calculated. We have to remove these specific rows which have Nan**"
   ]
  },
  {
   "cell_type": "code",
   "execution_count": 605,
   "id": "b5325b04-08a1-4610-a32b-9064730a4eaf",
   "metadata": {},
   "outputs": [],
   "source": [
    "df = df.iloc[10:]"
   ]
  },
  {
   "cell_type": "code",
   "execution_count": 606,
   "id": "0cc70a19-3974-495b-b345-140c3f6c56bf",
   "metadata": {},
   "outputs": [
    {
     "data": {
      "text/plain": [
       "Adj Close    float64\n",
       "EMA_10       float64\n",
       "dtype: object"
      ]
     },
     "execution_count": 606,
     "metadata": {},
     "output_type": "execute_result"
    }
   ],
   "source": [
    "df.dtypes"
   ]
  },
  {
   "cell_type": "markdown",
   "id": "2236e513-62a8-4933-8766-073d19e0e443",
   "metadata": {},
   "source": [
    "We are plotting the EMA calculated with the Adj Close and can observe that the 10 day Exponential Moving Average is able to fit in for most of the values"
   ]
  },
  {
   "cell_type": "code",
   "execution_count": 607,
   "id": "9f534aa0-4859-4c06-8d32-52c5bd649b07",
   "metadata": {},
   "outputs": [
    {
     "data": {
      "text/plain": [
       "<AxesSubplot:xlabel='Date'>"
      ]
     },
     "execution_count": 607,
     "metadata": {},
     "output_type": "execute_result"
    },
    {
     "data": {
      "image/png": "[encoded data removed]",
      "text/plain": [
       "<Figure size 432x288 with 1 Axes>"
      ]
     },
     "metadata": {
      "needs_background": "light"
     },
     "output_type": "display_data"
    }
   ],
   "source": [
    "df.plot()"
   ]
  },
  {
   "cell_type": "markdown",
   "id": "246ebc06-03a9-4ca1-98b0-af5d715d1a3b",
   "metadata": {},
   "source": [
    "We are using the train_test_split() to split the data. The function adapts the default behaviour to pick data randomly from the dataset but for our purpose of predicting stock prices in advance will require us not to shuffle the dataset, so we are setting **shuffle** to **'False'**\n",
    "\n",
    "This will allow the model to train on the data from 2016~ Apr 2020 and the testing to happen on the May 2020 - Oct 2021 data . We will be using the test_size param to set the test data set size. In the current inference we are using the 20% as test data"
   ]
  },
  {
   "cell_type": "code",
   "execution_count": 608,
   "id": "3904e359-b21e-4976-a27c-9b2250c61d90",
   "metadata": {},
   "outputs": [],
   "source": [
    "X=df[['Adj Close']].values\n",
    "y=df[['EMA_10']].values\n",
    "X_train, X_test, y_train, y_test = train_test_split(X,y, test_size=.2,shuffle=False)\n"
   ]
  },
  {
   "cell_type": "markdown",
   "id": "a162c0dd-6a15-42cb-8da4-aeac8ca6e874",
   "metadata": {},
   "source": [
    "Using the following cell we are creating the LinearRegression model and using the previously split dataset to train the model"
   ]
  },
  {
   "cell_type": "code",
   "execution_count": 609,
   "id": "c7c202fa-7e79-4bda-80fc-7bb67f294621",
   "metadata": {},
   "outputs": [
    {
     "data": {
      "text/plain": [
       "LinearRegression()"
      ]
     },
     "execution_count": 609,
     "metadata": {},
     "output_type": "execute_result"
    }
   ],
   "source": [
    "\n",
    "# Create Regression Model\n",
    "model = LinearRegression()\n",
    "# Train the model\n",
    "model.fit(X_train,y_train)"
   ]
  },
  {
   "cell_type": "markdown",
   "id": "72cb9101-d0f2-478c-9df5-a52ce7838ac8",
   "metadata": {},
   "source": [
    "Using the trained model we are making the predictions"
   ]
  },
  {
   "cell_type": "code",
   "execution_count": 610,
   "id": "95a76f94-5d5a-4036-8a03-cadc9c0d8499",
   "metadata": {},
   "outputs": [],
   "source": [
    "y_pred=model.predict(X_test)"
   ]
  },
  {
   "cell_type": "markdown",
   "id": "2498f03d-f162-4956-934b-e50a85a1be5b",
   "metadata": {},
   "source": [
    "**Mean Absolute Error** (MAE) is the mean of the absolute value of the errors. It is calculated as:<br/>\n",
    "MAE = $\\frac{1}{n} \\sum_{i=1}^{n} |Actual - Predicted|$"
   ]
  },
  {
   "cell_type": "code",
   "execution_count": 611,
   "id": "53afa8e4-bd67-4df7-a0ec-2cb2bfad2198",
   "metadata": {},
   "outputs": [
    {
     "name": "stdout",
     "output_type": "stream",
     "text": [
      "Intercept [16.50174877]\n",
      "Model Coefficients: [[0.98147124]]\n",
      "Mean Absolute Error: 68.14402011073688\n",
      "Coefficient of Determination: 0.6168630788009954\n"
     ]
    }
   ],
   "source": [
    "# Printout relevant metrics\n",
    "print(\"Intercept\", model.intercept_)\n",
    "print(\"Model Coefficients:\", model.coef_)\n",
    "print(\"Mean Absolute Error:\", mean_absolute_error(y_test, y_pred))\n",
    "print(\"Coefficient of Determination:\", r2_score(y_test, y_pred))"
   ]
  },
  {
   "cell_type": "markdown",
   "id": "7d880cda-4956-45d7-9e2d-ea18043f5c0c",
   "metadata": {},
   "source": [
    "We can list the actual and the predicted and can verify them using the following command"
   ]
  },
  {
   "cell_type": "code",
   "execution_count": 612,
   "id": "e9215e7c-0e61-48bd-adf6-97173a8d4f9b",
   "metadata": {},
   "outputs": [],
   "source": [
    "act_pred_df = pd.DataFrame({'Actual': y_test.flatten(), 'Predicted': y_pred.flatten()})"
   ]
  },
  {
   "cell_type": "code",
   "execution_count": 613,
   "id": "bccc862a-95a7-482f-880b-42b2a7ab404e",
   "metadata": {},
   "outputs": [
    {
     "data": {
      "text/html": [
       "<div>\n",
       "<style scoped>\n",
       "    .dataframe tbody tr th:only-of-type {\n",
       "        vertical-align: middle;\n",
       "    }\n",
       "\n",
       "    .dataframe tbody tr th {\n",
       "        vertical-align: top;\n",
       "    }\n",
       "\n",
       "    .dataframe thead th {\n",
       "        text-align: right;\n",
       "    }\n",
       "</style>\n",
       "<table border=\"1\" class=\"dataframe\">\n",
       "  <thead>\n",
       "    <tr style=\"text-align: right;\">\n",
       "      <th></th>\n",
       "      <th>Actual</th>\n",
       "      <th>Predicted</th>\n",
       "    </tr>\n",
       "  </thead>\n",
       "  <tbody>\n",
       "    <tr>\n",
       "      <th>0</th>\n",
       "      <td>3211.803828</td>\n",
       "      <td>3252.775680</td>\n",
       "    </tr>\n",
       "    <tr>\n",
       "      <th>1</th>\n",
       "      <td>3225.061309</td>\n",
       "      <td>3240.359925</td>\n",
       "    </tr>\n",
       "    <tr>\n",
       "      <th>2</th>\n",
       "      <td>3240.042882</td>\n",
       "      <td>3262.678571</td>\n",
       "    </tr>\n",
       "    <tr>\n",
       "      <th>3</th>\n",
       "      <td>3259.396901</td>\n",
       "      <td>3300.985422</td>\n",
       "    </tr>\n",
       "    <tr>\n",
       "      <th>4</th>\n",
       "      <td>3292.570210</td>\n",
       "      <td>3394.578625</td>\n",
       "    </tr>\n",
       "    <tr>\n",
       "      <th>...</th>\n",
       "      <td>...</td>\n",
       "      <td>...</td>\n",
       "    </tr>\n",
       "    <tr>\n",
       "      <th>284</th>\n",
       "      <td>3294.484929</td>\n",
       "      <td>3218.070751</td>\n",
       "    </tr>\n",
       "    <tr>\n",
       "      <th>285</th>\n",
       "      <td>3295.929475</td>\n",
       "      <td>3257.741742</td>\n",
       "    </tr>\n",
       "    <tr>\n",
       "      <th>286</th>\n",
       "      <td>3294.600501</td>\n",
       "      <td>3244.187806</td>\n",
       "    </tr>\n",
       "    <tr>\n",
       "      <th>287</th>\n",
       "      <td>3285.818601</td>\n",
       "      <td>3202.651877</td>\n",
       "    </tr>\n",
       "    <tr>\n",
       "      <th>288</th>\n",
       "      <td>3278.820687</td>\n",
       "      <td>3203.662821</td>\n",
       "    </tr>\n",
       "  </tbody>\n",
       "</table>\n",
       "<p>289 rows × 2 columns</p>\n",
       "</div>"
      ],
      "text/plain": [
       "          Actual    Predicted\n",
       "0    3211.803828  3252.775680\n",
       "1    3225.061309  3240.359925\n",
       "2    3240.042882  3262.678571\n",
       "3    3259.396901  3300.985422\n",
       "4    3292.570210  3394.578625\n",
       "..           ...          ...\n",
       "284  3294.484929  3218.070751\n",
       "285  3295.929475  3257.741742\n",
       "286  3294.600501  3244.187806\n",
       "287  3285.818601  3202.651877\n",
       "288  3278.820687  3203.662821\n",
       "\n",
       "[289 rows x 2 columns]"
      ]
     },
     "execution_count": 613,
     "metadata": {},
     "output_type": "execute_result"
    }
   ],
   "source": [
    "act_pred_df"
   ]
  },
  {
   "cell_type": "markdown",
   "id": "0b39487d-bc4d-4dcd-9e13-ce084a50c361",
   "metadata": {},
   "source": [
    "We can also plot them in a bar graph and can observe the difference between the actual and predicted price"
   ]
  },
  {
   "cell_type": "code",
   "execution_count": 614,
   "id": "ec8edaeb-39f6-437f-b0e8-9b53deef1786",
   "metadata": {},
   "outputs": [
    {
     "data": {
      "image/png": "[encoded data removed]",
      "text/plain": [
       "<Figure size 1152x720 with 1 Axes>"
      ]
     },
     "metadata": {
      "needs_background": "light"
     },
     "output_type": "display_data"
    }
   ],
   "source": [
    "df2 = act_pred_df.head(20)\n",
    "df2.plot(kind='bar',figsize=(16,10))\n",
    "plt.grid(which='major', linestyle='-', linewidth='0.5', color='green')\n",
    "plt.grid(which='minor', linestyle=':', linewidth='0.5', color='black')\n",
    "plt.show()"
   ]
  },
  {
   "cell_type": "code",
   "execution_count": 615,
   "id": "65edf75e-96b9-4386-a3a3-a1c97d5e9b41",
   "metadata": {},
   "outputs": [
    {
     "data": {
      "image/png": "[encoded data removed]",
      "text/plain": [
       "<Figure size 432x288 with 1 Axes>"
      ]
     },
     "metadata": {
      "needs_background": "light"
     },
     "output_type": "display_data"
    }
   ],
   "source": [
    "# Prediction vs Test Data\n",
    "plt.scatter(X_test, y_test,  color='gray')\n",
    "plt.plot(X_test, y_pred, color='red', linewidth=2)\n",
    "plt.show()"
   ]
  },
  {
   "cell_type": "markdown",
   "id": "054b03c5-63f7-494d-b02c-da89f6a263a7",
   "metadata": {},
   "source": [
    "# TESLA STOCK PRICES"
   ]
  },
  {
   "cell_type": "code",
   "execution_count": 616,
   "id": "8eac6050-6fdb-40f7-aca8-2f8b71d65ad8",
   "metadata": {},
   "outputs": [
    {
     "data": {
      "text/html": [
       "<div>\n",
       "<style scoped>\n",
       "    .dataframe tbody tr th:only-of-type {\n",
       "        vertical-align: middle;\n",
       "    }\n",
       "\n",
       "    .dataframe tbody tr th {\n",
       "        vertical-align: top;\n",
       "    }\n",
       "\n",
       "    .dataframe thead th {\n",
       "        text-align: right;\n",
       "    }\n",
       "</style>\n",
       "<table border=\"1\" class=\"dataframe\">\n",
       "  <thead>\n",
       "    <tr style=\"text-align: right;\">\n",
       "      <th></th>\n",
       "      <th>High</th>\n",
       "      <th>Low</th>\n",
       "      <th>Open</th>\n",
       "      <th>Close</th>\n",
       "      <th>Volume</th>\n",
       "      <th>Adj Close</th>\n",
       "    </tr>\n",
       "    <tr>\n",
       "      <th>Date</th>\n",
       "      <th></th>\n",
       "      <th></th>\n",
       "      <th></th>\n",
       "      <th></th>\n",
       "      <th></th>\n",
       "      <th></th>\n",
       "    </tr>\n",
       "  </thead>\n",
       "  <tbody>\n",
       "    <tr>\n",
       "      <th>2016-01-04</th>\n",
       "      <td>46.276001</td>\n",
       "      <td>43.799999</td>\n",
       "      <td>46.144001</td>\n",
       "      <td>44.681999</td>\n",
       "      <td>34135500.0</td>\n",
       "      <td>44.681999</td>\n",
       "    </tr>\n",
       "    <tr>\n",
       "      <th>2016-01-05</th>\n",
       "      <td>45.377998</td>\n",
       "      <td>44.000000</td>\n",
       "      <td>45.271999</td>\n",
       "      <td>44.686001</td>\n",
       "      <td>15934000.0</td>\n",
       "      <td>44.686001</td>\n",
       "    </tr>\n",
       "    <tr>\n",
       "      <th>2016-01-06</th>\n",
       "      <td>44.009998</td>\n",
       "      <td>43.195999</td>\n",
       "      <td>44.000000</td>\n",
       "      <td>43.807999</td>\n",
       "      <td>18895500.0</td>\n",
       "      <td>43.807999</td>\n",
       "    </tr>\n",
       "    <tr>\n",
       "      <th>2016-01-07</th>\n",
       "      <td>43.688000</td>\n",
       "      <td>42.734001</td>\n",
       "      <td>42.838001</td>\n",
       "      <td>43.130001</td>\n",
       "      <td>17771500.0</td>\n",
       "      <td>43.130001</td>\n",
       "    </tr>\n",
       "    <tr>\n",
       "      <th>2016-01-08</th>\n",
       "      <td>44.088001</td>\n",
       "      <td>42.153999</td>\n",
       "      <td>43.571999</td>\n",
       "      <td>42.200001</td>\n",
       "      <td>18140500.0</td>\n",
       "      <td>42.200001</td>\n",
       "    </tr>\n",
       "    <tr>\n",
       "      <th>2016-01-11</th>\n",
       "      <td>42.889999</td>\n",
       "      <td>40.599998</td>\n",
       "      <td>42.801998</td>\n",
       "      <td>41.570000</td>\n",
       "      <td>20457000.0</td>\n",
       "      <td>41.570000</td>\n",
       "    </tr>\n",
       "    <tr>\n",
       "      <th>2016-01-12</th>\n",
       "      <td>42.748001</td>\n",
       "      <td>41.062000</td>\n",
       "      <td>42.320000</td>\n",
       "      <td>41.993999</td>\n",
       "      <td>15459500.0</td>\n",
       "      <td>41.993999</td>\n",
       "    </tr>\n",
       "    <tr>\n",
       "      <th>2016-01-13</th>\n",
       "      <td>42.529999</td>\n",
       "      <td>40.000000</td>\n",
       "      <td>42.402000</td>\n",
       "      <td>40.062000</td>\n",
       "      <td>20632000.0</td>\n",
       "      <td>40.062000</td>\n",
       "    </tr>\n",
       "    <tr>\n",
       "      <th>2016-01-14</th>\n",
       "      <td>42.000000</td>\n",
       "      <td>38.675999</td>\n",
       "      <td>40.442001</td>\n",
       "      <td>41.236000</td>\n",
       "      <td>32453500.0</td>\n",
       "      <td>41.236000</td>\n",
       "    </tr>\n",
       "    <tr>\n",
       "      <th>2016-01-15</th>\n",
       "      <td>41.014000</td>\n",
       "      <td>39.450001</td>\n",
       "      <td>39.793999</td>\n",
       "      <td>40.998001</td>\n",
       "      <td>27893000.0</td>\n",
       "      <td>40.998001</td>\n",
       "    </tr>\n",
       "  </tbody>\n",
       "</table>\n",
       "</div>"
      ],
      "text/plain": [
       "                 High        Low       Open      Close      Volume  Adj Close\n",
       "Date                                                                         \n",
       "2016-01-04  46.276001  43.799999  46.144001  44.681999  34135500.0  44.681999\n",
       "2016-01-05  45.377998  44.000000  45.271999  44.686001  15934000.0  44.686001\n",
       "2016-01-06  44.009998  43.195999  44.000000  43.807999  18895500.0  43.807999\n",
       "2016-01-07  43.688000  42.734001  42.838001  43.130001  17771500.0  43.130001\n",
       "2016-01-08  44.088001  42.153999  43.571999  42.200001  18140500.0  42.200001\n",
       "2016-01-11  42.889999  40.599998  42.801998  41.570000  20457000.0  41.570000\n",
       "2016-01-12  42.748001  41.062000  42.320000  41.993999  15459500.0  41.993999\n",
       "2016-01-13  42.529999  40.000000  42.402000  40.062000  20632000.0  40.062000\n",
       "2016-01-14  42.000000  38.675999  40.442001  41.236000  32453500.0  41.236000\n",
       "2016-01-15  41.014000  39.450001  39.793999  40.998001  27893000.0  40.998001"
      ]
     },
     "execution_count": 616,
     "metadata": {},
     "output_type": "execute_result"
    }
   ],
   "source": [
    "start = datetime.datetime(2016, 1, 1)\n",
    "end = datetime.datetime(2021, 10, 12)\n",
    "tsla_df = web.DataReader('TSLA', 'yahoo', start, end)\n",
    "tsla_df.head(10)"
   ]
  },
  {
   "cell_type": "markdown",
   "id": "dd7eca1f-9356-4486-8b78-da6de4e8331e",
   "metadata": {},
   "source": [
    "#### We will be using the Adjusted Closing value to create Exponential moving average using the pandas_ta library. Using the below command we are selecting only the required columns"
   ]
  },
  {
   "cell_type": "code",
   "execution_count": 617,
   "id": "dca5e234-2237-43cf-b6e6-21ba387214c2",
   "metadata": {
    "tags": []
   },
   "outputs": [],
   "source": [
    "tsla_df = tsla_df[['Adj Close']]"
   ]
  },
  {
   "cell_type": "markdown",
   "id": "fd759b1d-efd8-49e6-b3c1-6cefa69d02c9",
   "metadata": {},
   "source": [
    "#### *Plotting the Tesla Stock Price*"
   ]
  },
  {
   "cell_type": "code",
   "execution_count": 618,
   "id": "f85b89eb-f0cc-4b0a-a236-ed07fb134975",
   "metadata": {
    "tags": []
   },
   "outputs": [
    {
     "data": {
      "text/plain": [
       "<AxesSubplot:title={'center':'Stock Price'}, xlabel='Date'>"
      ]
     },
     "execution_count": 618,
     "metadata": {},
     "output_type": "execute_result"
    },
    {
     "data": {
      "image/png": "[encoded data removed]",
      "text/plain": [
       "<Figure size 432x288 with 1 Axes>"
      ]
     },
     "metadata": {
      "needs_background": "light"
     },
     "output_type": "display_data"
    }
   ],
   "source": [
    "tsla_df.plot(title='Stock Price')"
   ]
  },
  {
   "cell_type": "markdown",
   "id": "8c627e80-b909-496e-b731-2206e3908dbc",
   "metadata": {},
   "source": [
    "Exponential Moving Average - The exponential moving average (EMA) is a weighted average of recent period's prices. It uses an exponentially decreasing weight from each previous price/period. In other words, the formula gives recent prices more weight than past prices.\n",
    "\n",
    "**Exponential Moving Average** = $\\frac{2}{(n+1)}*(Close - Previous EMA )+PreviousEMA$\n",
    "\n",
    "To add our technical indicators like EMA we’ll be using the pandas_ta library. A new column **\"EMA_10\"** will be added to our data which represents the exponential moving average over a 10-day period\n"
   ]
  },
  {
   "cell_type": "code",
   "execution_count": 619,
   "id": "cb7cc61f-484a-4c2a-8f21-9a929b95be3a",
   "metadata": {},
   "outputs": [
    {
     "data": {
      "text/plain": [
       "Date\n",
       "2016-01-04           NaN\n",
       "2016-01-05           NaN\n",
       "2016-01-06           NaN\n",
       "2016-01-07           NaN\n",
       "2016-01-08           NaN\n",
       "                 ...    \n",
       "2021-10-06    774.677694\n",
       "2021-10-07    778.119929\n",
       "2021-10-08    779.459940\n",
       "2021-10-11    781.729042\n",
       "2021-10-12    786.091029\n",
       "Name: EMA_10, Length: 1455, dtype: float64"
      ]
     },
     "execution_count": 619,
     "metadata": {},
     "output_type": "execute_result"
    }
   ],
   "source": [
    "tsla_df.ta.ema(close='Adj Close', length=10, append=True)"
   ]
  },
  {
   "cell_type": "markdown",
   "id": "7ecd1028-1d2d-47de-a5eb-42ebd4712754",
   "metadata": {},
   "source": [
    "**The first 9 entries in our data will have Nan value since there will be no proceeding values from which the EMA can be calculated. We have to remove these specific rows which have Nan**"
   ]
  },
  {
   "cell_type": "code",
   "execution_count": 620,
   "id": "ef249432-d5a3-492e-aec5-27db1ae53013",
   "metadata": {},
   "outputs": [],
   "source": [
    "tsla_df = tsla_df.iloc[10:]"
   ]
  },
  {
   "cell_type": "code",
   "execution_count": 621,
   "id": "3cf0e3dd-8570-4428-80df-12bdfb6c1e58",
   "metadata": {},
   "outputs": [
    {
     "data": {
      "text/plain": [
       "Adj Close    float64\n",
       "EMA_10       float64\n",
       "dtype: object"
      ]
     },
     "execution_count": 621,
     "metadata": {},
     "output_type": "execute_result"
    }
   ],
   "source": [
    "tsla_df.dtypes"
   ]
  },
  {
   "cell_type": "markdown",
   "id": "df34d0a0-8a92-412b-8ddf-62d3ef110da6",
   "metadata": {},
   "source": [
    "We are plotting the EMA calculated with the Adj Close and can observe that the 10 day Exponential Moving Average is able to fit in for most of the values"
   ]
  },
  {
   "cell_type": "code",
   "execution_count": 622,
   "id": "39eb7cde-3172-45d1-8485-5cfeb5b81355",
   "metadata": {},
   "outputs": [
    {
     "data": {
      "text/plain": [
       "<AxesSubplot:xlabel='Date'>"
      ]
     },
     "execution_count": 622,
     "metadata": {},
     "output_type": "execute_result"
    },
    {
     "data": {
      "image/png": "[encoded data removed]",
      "text/plain": [
       "<Figure size 432x288 with 1 Axes>"
      ]
     },
     "metadata": {
      "needs_background": "light"
     },
     "output_type": "display_data"
    }
   ],
   "source": [
    "tsla_df.plot()"
   ]
  },
  {
   "cell_type": "markdown",
   "id": "87feb35b-ab87-4be1-9e7d-db12f59b5f1d",
   "metadata": {},
   "source": [
    "We are using the train_test_split() to split the data. The function adapts the default behaviour to pick data randomly from the dataset but for our purpose of predicting stock prices in advance will require us not to shuffle the dataset, so we are setting **shuffle** to **'False'**\n",
    "\n",
    "This will allow the model to train on the data from 2016~ Apr 2020 and the testing to happen on the May 2020 - Oct 2021 data . We will be using the test_size param to set the test data set size. In the current inference we are using the 20% as test data"
   ]
  },
  {
   "cell_type": "code",
   "execution_count": 623,
   "id": "daacdf13-c9f6-4ec8-ad8f-223bb12e787e",
   "metadata": {},
   "outputs": [],
   "source": [
    "X=tsla_df[['Adj Close']].values\n",
    "y=tsla_df[['EMA_10']].values\n",
    "X_train, X_test, y_train, y_test = train_test_split(X,y, test_size=.2,shuffle=False)\n"
   ]
  },
  {
   "cell_type": "markdown",
   "id": "445a6132-58c5-4df0-a9b5-efb0367fee98",
   "metadata": {},
   "source": [
    "Using the following cell we are creating the LinearRegression model and using the previously split dataset to train the model"
   ]
  },
  {
   "cell_type": "code",
   "execution_count": 624,
   "id": "29a8e6cf-312e-478a-b5c5-6ac96fa11485",
   "metadata": {},
   "outputs": [
    {
     "data": {
      "text/plain": [
       "LinearRegression()"
      ]
     },
     "execution_count": 624,
     "metadata": {},
     "output_type": "execute_result"
    }
   ],
   "source": [
    "\n",
    "# Create Regression Model\n",
    "model = LinearRegression()\n",
    "# Train the model\n",
    "model.fit(X_train,y_train)"
   ]
  },
  {
   "cell_type": "markdown",
   "id": "79878e2d-de44-4c4e-9034-49640eeddadf",
   "metadata": {},
   "source": [
    "Using the trained model we are making the predictions"
   ]
  },
  {
   "cell_type": "code",
   "execution_count": 625,
   "id": "9e7de813-ca17-46d4-a8ce-df18591365a7",
   "metadata": {},
   "outputs": [],
   "source": [
    "y_pred=model.predict(X_test)"
   ]
  },
  {
   "cell_type": "markdown",
   "id": "390e4fdd-e45c-4c76-8f8c-c08757efdc83",
   "metadata": {},
   "source": [
    "**Mean Absolute Error** (MAE) is the mean of the absolute value of the errors. It is calculated as:<br/>\n",
    "MAE = $\\frac{1}{n} \\sum_{i=1}^{n} |Actual - Predicted|$"
   ]
  },
  {
   "cell_type": "code",
   "execution_count": 626,
   "id": "f3d2fe48-c9c1-48d9-8213-a2d3c9c5ff8a",
   "metadata": {},
   "outputs": [
    {
     "name": "stdout",
     "output_type": "stream",
     "text": [
      "Intercept [3.85294763]\n",
      "Model Coefficients: [[0.93133964]]\n",
      "Mean Absolute Error: 37.42688155618294\n",
      "Coefficient of Determination: 0.8880203021082513\n"
     ]
    }
   ],
   "source": [
    "# Printout relevant metrics\n",
    "print(\"Intercept\", model.intercept_)\n",
    "print(\"Model Coefficients:\", model.coef_)\n",
    "print(\"Mean Absolute Error:\", mean_absolute_error(y_test, y_pred))\n",
    "print(\"Coefficient of Determination:\", r2_score(y_test, y_pred))"
   ]
  },
  {
   "cell_type": "markdown",
   "id": "68876b29-66c6-40db-ad40-04c743b8bbe3",
   "metadata": {},
   "source": [
    "We can list the actual and the predicted and can verify them using the following command"
   ]
  },
  {
   "cell_type": "code",
   "execution_count": 627,
   "id": "b4126fd9-27d2-4fe3-aa3c-a42f957df5f2",
   "metadata": {},
   "outputs": [],
   "source": [
    "act_pred_tsla_df = pd.DataFrame({'Actual': y_test.flatten(), 'Predicted': y_pred.flatten()})"
   ]
  },
  {
   "cell_type": "code",
   "execution_count": 628,
   "id": "3787d722-268a-4972-a095-93011320af7e",
   "metadata": {},
   "outputs": [
    {
     "data": {
      "text/html": [
       "<div>\n",
       "<style scoped>\n",
       "    .dataframe tbody tr th:only-of-type {\n",
       "        vertical-align: middle;\n",
       "    }\n",
       "\n",
       "    .dataframe tbody tr th {\n",
       "        vertical-align: top;\n",
       "    }\n",
       "\n",
       "    .dataframe thead th {\n",
       "        text-align: right;\n",
       "    }\n",
       "</style>\n",
       "<table border=\"1\" class=\"dataframe\">\n",
       "  <thead>\n",
       "    <tr style=\"text-align: right;\">\n",
       "      <th></th>\n",
       "      <th>Actual</th>\n",
       "      <th>Predicted</th>\n",
       "    </tr>\n",
       "  </thead>\n",
       "  <tbody>\n",
       "    <tr>\n",
       "      <th>0</th>\n",
       "      <td>347.889003</td>\n",
       "      <td>376.729671</td>\n",
       "    </tr>\n",
       "    <tr>\n",
       "      <th>1</th>\n",
       "      <td>359.181184</td>\n",
       "      <td>385.698476</td>\n",
       "    </tr>\n",
       "    <tr>\n",
       "      <th>2</th>\n",
       "      <td>367.119150</td>\n",
       "      <td>379.033805</td>\n",
       "    </tr>\n",
       "    <tr>\n",
       "      <th>3</th>\n",
       "      <td>373.946214</td>\n",
       "      <td>380.736296</td>\n",
       "    </tr>\n",
       "    <tr>\n",
       "      <th>4</th>\n",
       "      <td>384.253084</td>\n",
       "      <td>404.919464</td>\n",
       "    </tr>\n",
       "    <tr>\n",
       "      <th>...</th>\n",
       "      <td>...</td>\n",
       "      <td>...</td>\n",
       "    </tr>\n",
       "    <tr>\n",
       "      <th>284</th>\n",
       "      <td>774.677694</td>\n",
       "      <td>732.859050</td>\n",
       "    </tr>\n",
       "    <tr>\n",
       "      <th>285</th>\n",
       "      <td>778.119929</td>\n",
       "      <td>742.973385</td>\n",
       "    </tr>\n",
       "    <tr>\n",
       "      <th>286</th>\n",
       "      <td>779.459940</td>\n",
       "      <td>735.410912</td>\n",
       "    </tr>\n",
       "    <tr>\n",
       "      <th>287</th>\n",
       "      <td>781.729042</td>\n",
       "      <td>741.418064</td>\n",
       "    </tr>\n",
       "    <tr>\n",
       "      <th>288</th>\n",
       "      <td>786.091029</td>\n",
       "      <td>754.251895</td>\n",
       "    </tr>\n",
       "  </tbody>\n",
       "</table>\n",
       "<p>289 rows × 2 columns</p>\n",
       "</div>"
      ],
      "text/plain": [
       "         Actual   Predicted\n",
       "0    347.889003  376.729671\n",
       "1    359.181184  385.698476\n",
       "2    367.119150  379.033805\n",
       "3    373.946214  380.736296\n",
       "4    384.253084  404.919464\n",
       "..          ...         ...\n",
       "284  774.677694  732.859050\n",
       "285  778.119929  742.973385\n",
       "286  779.459940  735.410912\n",
       "287  781.729042  741.418064\n",
       "288  786.091029  754.251895\n",
       "\n",
       "[289 rows x 2 columns]"
      ]
     },
     "execution_count": 628,
     "metadata": {},
     "output_type": "execute_result"
    }
   ],
   "source": [
    "act_pred_tsla_df"
   ]
  },
  {
   "cell_type": "markdown",
   "id": "9727d190-daec-444f-a75a-4a4f1cd6b3e2",
   "metadata": {},
   "source": [
    "We can also plot them in a bar graph and can observe the difference between the actual and predicted price"
   ]
  },
  {
   "cell_type": "code",
   "execution_count": 629,
   "id": "53fd672a-fd3b-40f9-9e3d-2fe52122cf37",
   "metadata": {},
   "outputs": [
    {
     "data": {
      "image/png": "[encoded data removed]",
      "text/plain": [
       "<Figure size 1152x720 with 1 Axes>"
      ]
     },
     "metadata": {
      "needs_background": "light"
     },
     "output_type": "display_data"
    }
   ],
   "source": [
    "tsla_df2 = act_pred_tsla_df.head(20)\n",
    "tsla_df2.plot(kind='bar',figsize=(16,10))\n",
    "plt.grid(which='major', linestyle='-', linewidth='0.5', color='green')\n",
    "plt.grid(which='minor', linestyle=':', linewidth='0.5', color='black')\n",
    "plt.show()"
   ]
  },
  {
   "cell_type": "code",
   "execution_count": 630,
   "id": "f3724629-2131-4257-994d-2aa7f704a2eb",
   "metadata": {},
   "outputs": [
    {
     "data": {
      "image/png": "[encoded data removed]",
      "text/plain": [
       "<Figure size 432x288 with 1 Axes>"
      ]
     },
     "metadata": {
      "needs_background": "light"
     },
     "output_type": "display_data"
    }
   ],
   "source": [
    "# Prediction vs Test Data\n",
    "plt.scatter(X_test, y_test,  color='gray')\n",
    "plt.plot(X_test, y_pred, color='red', linewidth=2)\n",
    "plt.show()"
   ]
  },
  {
   "cell_type": "markdown",
   "id": "675aebe5-2a7e-43fc-81d4-aac9a5f56671",
   "metadata": {},
   "source": [
    "# GOOGLE STOCK PRICES"
   ]
  },
  {
   "cell_type": "code",
   "execution_count": 631,
   "id": "78196fe3-9fbf-4b98-a198-b09d5f9a76df",
   "metadata": {},
   "outputs": [
    {
     "data": {
      "text/html": [
       "<div>\n",
       "<style scoped>\n",
       "    .dataframe tbody tr th:only-of-type {\n",
       "        vertical-align: middle;\n",
       "    }\n",
       "\n",
       "    .dataframe tbody tr th {\n",
       "        vertical-align: top;\n",
       "    }\n",
       "\n",
       "    .dataframe thead th {\n",
       "        text-align: right;\n",
       "    }\n",
       "</style>\n",
       "<table border=\"1\" class=\"dataframe\">\n",
       "  <thead>\n",
       "    <tr style=\"text-align: right;\">\n",
       "      <th></th>\n",
       "      <th>High</th>\n",
       "      <th>Low</th>\n",
       "      <th>Open</th>\n",
       "      <th>Close</th>\n",
       "      <th>Volume</th>\n",
       "      <th>Adj Close</th>\n",
       "    </tr>\n",
       "    <tr>\n",
       "      <th>Date</th>\n",
       "      <th></th>\n",
       "      <th></th>\n",
       "      <th></th>\n",
       "      <th></th>\n",
       "      <th></th>\n",
       "      <th></th>\n",
       "    </tr>\n",
       "  </thead>\n",
       "  <tbody>\n",
       "    <tr>\n",
       "      <th>2016-01-04</th>\n",
       "      <td>744.059998</td>\n",
       "      <td>731.257996</td>\n",
       "      <td>743.000000</td>\n",
       "      <td>741.840027</td>\n",
       "      <td>3272800</td>\n",
       "      <td>741.840027</td>\n",
       "    </tr>\n",
       "    <tr>\n",
       "      <th>2016-01-05</th>\n",
       "      <td>752.000000</td>\n",
       "      <td>738.640015</td>\n",
       "      <td>746.450012</td>\n",
       "      <td>742.580017</td>\n",
       "      <td>1950700</td>\n",
       "      <td>742.580017</td>\n",
       "    </tr>\n",
       "    <tr>\n",
       "      <th>2016-01-06</th>\n",
       "      <td>747.179993</td>\n",
       "      <td>728.919983</td>\n",
       "      <td>730.000000</td>\n",
       "      <td>743.619995</td>\n",
       "      <td>1947000</td>\n",
       "      <td>743.619995</td>\n",
       "    </tr>\n",
       "    <tr>\n",
       "      <th>2016-01-07</th>\n",
       "      <td>738.500000</td>\n",
       "      <td>719.059998</td>\n",
       "      <td>730.309998</td>\n",
       "      <td>726.390015</td>\n",
       "      <td>2963700</td>\n",
       "      <td>726.390015</td>\n",
       "    </tr>\n",
       "    <tr>\n",
       "      <th>2016-01-08</th>\n",
       "      <td>733.229980</td>\n",
       "      <td>713.000000</td>\n",
       "      <td>731.450012</td>\n",
       "      <td>714.469971</td>\n",
       "      <td>2450900</td>\n",
       "      <td>714.469971</td>\n",
       "    </tr>\n",
       "    <tr>\n",
       "      <th>2016-01-11</th>\n",
       "      <td>718.854980</td>\n",
       "      <td>703.539978</td>\n",
       "      <td>716.609985</td>\n",
       "      <td>716.030029</td>\n",
       "      <td>2090600</td>\n",
       "      <td>716.030029</td>\n",
       "    </tr>\n",
       "    <tr>\n",
       "      <th>2016-01-12</th>\n",
       "      <td>728.750000</td>\n",
       "      <td>717.317017</td>\n",
       "      <td>721.679993</td>\n",
       "      <td>726.070007</td>\n",
       "      <td>2024500</td>\n",
       "      <td>726.070007</td>\n",
       "    </tr>\n",
       "    <tr>\n",
       "      <th>2016-01-13</th>\n",
       "      <td>734.739990</td>\n",
       "      <td>698.609985</td>\n",
       "      <td>730.849976</td>\n",
       "      <td>700.559998</td>\n",
       "      <td>2501700</td>\n",
       "      <td>700.559998</td>\n",
       "    </tr>\n",
       "    <tr>\n",
       "      <th>2016-01-14</th>\n",
       "      <td>721.924988</td>\n",
       "      <td>689.099976</td>\n",
       "      <td>705.380005</td>\n",
       "      <td>714.719971</td>\n",
       "      <td>2225800</td>\n",
       "      <td>714.719971</td>\n",
       "    </tr>\n",
       "    <tr>\n",
       "      <th>2016-01-15</th>\n",
       "      <td>706.739990</td>\n",
       "      <td>685.369995</td>\n",
       "      <td>692.289978</td>\n",
       "      <td>694.450012</td>\n",
       "      <td>3608100</td>\n",
       "      <td>694.450012</td>\n",
       "    </tr>\n",
       "  </tbody>\n",
       "</table>\n",
       "</div>"
      ],
      "text/plain": [
       "                  High         Low        Open       Close   Volume  \\\n",
       "Date                                                                  \n",
       "2016-01-04  744.059998  731.257996  743.000000  741.840027  3272800   \n",
       "2016-01-05  752.000000  738.640015  746.450012  742.580017  1950700   \n",
       "2016-01-06  747.179993  728.919983  730.000000  743.619995  1947000   \n",
       "2016-01-07  738.500000  719.059998  730.309998  726.390015  2963700   \n",
       "2016-01-08  733.229980  713.000000  731.450012  714.469971  2450900   \n",
       "2016-01-11  718.854980  703.539978  716.609985  716.030029  2090600   \n",
       "2016-01-12  728.750000  717.317017  721.679993  726.070007  2024500   \n",
       "2016-01-13  734.739990  698.609985  730.849976  700.559998  2501700   \n",
       "2016-01-14  721.924988  689.099976  705.380005  714.719971  2225800   \n",
       "2016-01-15  706.739990  685.369995  692.289978  694.450012  3608100   \n",
       "\n",
       "             Adj Close  \n",
       "Date                    \n",
       "2016-01-04  741.840027  \n",
       "2016-01-05  742.580017  \n",
       "2016-01-06  743.619995  \n",
       "2016-01-07  726.390015  \n",
       "2016-01-08  714.469971  \n",
       "2016-01-11  716.030029  \n",
       "2016-01-12  726.070007  \n",
       "2016-01-13  700.559998  \n",
       "2016-01-14  714.719971  \n",
       "2016-01-15  694.450012  "
      ]
     },
     "execution_count": 631,
     "metadata": {},
     "output_type": "execute_result"
    }
   ],
   "source": [
    "start = datetime.datetime(2016, 1, 1)\n",
    "end = datetime.datetime(2021, 10, 12)\n",
    "goog_df = web.DataReader('GOOG', 'yahoo', start, end)\n",
    "goog_df.head(10)"
   ]
  },
  {
   "cell_type": "markdown",
   "id": "773802f0-66e4-4e80-be8b-bc851ae7ee89",
   "metadata": {},
   "source": [
    "#### We will be using the Adjusted Closing value to create Exponential moving average using the pandas_ta library. Using the below command we are selecting only the required columns"
   ]
  },
  {
   "cell_type": "code",
   "execution_count": 632,
   "id": "e2c7e988-9f98-4a34-b840-49ff5279bf7d",
   "metadata": {
    "tags": []
   },
   "outputs": [],
   "source": [
    "goog_df = goog_df[['Adj Close']]"
   ]
  },
  {
   "cell_type": "markdown",
   "id": "09a8ff97-a2f6-4ce0-a018-30821d82901a",
   "metadata": {},
   "source": [
    "#### *Plotting the Tesla Stock Price*"
   ]
  },
  {
   "cell_type": "code",
   "execution_count": 633,
   "id": "a82e4567-614a-4065-9233-784568f4f707",
   "metadata": {
    "tags": []
   },
   "outputs": [
    {
     "data": {
      "text/plain": [
       "<AxesSubplot:title={'center':'Stock Price'}, xlabel='Date'>"
      ]
     },
     "execution_count": 633,
     "metadata": {},
     "output_type": "execute_result"
    },
    {
     "data": {
      "image/png": "[encoded data removed]",
      "text/plain": [
       "<Figure size 432x288 with 1 Axes>"
      ]
     },
     "metadata": {
      "needs_background": "light"
     },
     "output_type": "display_data"
    }
   ],
   "source": [
    "goog_df.plot(title='Stock Price')"
   ]
  },
  {
   "cell_type": "markdown",
   "id": "1ff4e4ef-66c5-4734-8c4c-7fe6a3404d67",
   "metadata": {},
   "source": [
    "Exponential Moving Average - The exponential moving average (EMA) is a weighted average of recent period's prices. It uses an exponentially decreasing weight from each previous price/period. In other words, the formula gives recent prices more weight than past prices.\n",
    "\n",
    "**Exponential Moving Average** = $\\frac{2}{(n+1)}*(Close - Previous EMA )+PreviousEMA$\n",
    "\n",
    "To add our technical indicators like EMA we’ll be using the pandas_ta library. A new column **\"EMA_10\"** will be added to our data which represents the exponential moving average over a 10-day period\n"
   ]
  },
  {
   "cell_type": "code",
   "execution_count": 634,
   "id": "54d969b7-3bbe-4074-986e-e44710667162",
   "metadata": {},
   "outputs": [
    {
     "data": {
      "text/plain": [
       "Date\n",
       "2016-01-04            NaN\n",
       "2016-01-05            NaN\n",
       "2016-01-06            NaN\n",
       "2016-01-07            NaN\n",
       "2016-01-08            NaN\n",
       "                 ...     \n",
       "2021-10-06    2743.942539\n",
       "2021-10-07    2751.172979\n",
       "2021-10-08    2760.254277\n",
       "2021-10-11    2763.289854\n",
       "2021-10-12    2758.011701\n",
       "Name: EMA_10, Length: 1455, dtype: float64"
      ]
     },
     "execution_count": 634,
     "metadata": {},
     "output_type": "execute_result"
    }
   ],
   "source": [
    "goog_df.ta.ema(close='Adj Close', length=10, append=True)"
   ]
  },
  {
   "cell_type": "markdown",
   "id": "d8b2b460-c03e-4186-ab23-2cb69cca9fd9",
   "metadata": {},
   "source": [
    "**The first 9 entries in our data will have Nan value since there will be no proceeding values from which the EMA can be calculated. We have to remove these specific rows which have Nan**"
   ]
  },
  {
   "cell_type": "code",
   "execution_count": 635,
   "id": "146f79ca-0ace-42a5-ba0a-9a1293a87f93",
   "metadata": {},
   "outputs": [],
   "source": [
    "goog_df = goog_df.iloc[10:]"
   ]
  },
  {
   "cell_type": "code",
   "execution_count": 636,
   "id": "68c8e467-4812-45d6-b344-91c67d97953e",
   "metadata": {},
   "outputs": [
    {
     "data": {
      "text/plain": [
       "Adj Close    float64\n",
       "EMA_10       float64\n",
       "dtype: object"
      ]
     },
     "execution_count": 636,
     "metadata": {},
     "output_type": "execute_result"
    }
   ],
   "source": [
    "goog_df.dtypes"
   ]
  },
  {
   "cell_type": "markdown",
   "id": "b25fb7b3-6c03-43c7-9955-452e862fa6c3",
   "metadata": {},
   "source": [
    "We are plotting the EMA calculated with the Adj Close and can observe that the 10 day Exponential Moving Average is able to fit in for most of the values"
   ]
  },
  {
   "cell_type": "code",
   "execution_count": 637,
   "id": "62c34008-4fba-4f27-9a4d-8ce11cde9996",
   "metadata": {},
   "outputs": [
    {
     "data": {
      "text/plain": [
       "<AxesSubplot:xlabel='Date'>"
      ]
     },
     "execution_count": 637,
     "metadata": {},
     "output_type": "execute_result"
    },
    {
     "data": {
      "image/png": "[encoded data removed]",
      "text/plain": [
       "<Figure size 432x288 with 1 Axes>"
      ]
     },
     "metadata": {
      "needs_background": "light"
     },
     "output_type": "display_data"
    }
   ],
   "source": [
    "goog_df.plot()"
   ]
  },
  {
   "cell_type": "markdown",
   "id": "650e6096-ca73-4e6e-a040-b10a60e532de",
   "metadata": {},
   "source": [
    "We are using the train_test_split() to split the data. The function adapts the default behaviour to pick data randomly from the dataset but for our purpose of predicting stock prices in advance will require us not to shuffle the dataset, so we are setting **shuffle** to **'False'**\n",
    "\n",
    "This will allow the model to train on the data from 2016~ Apr 2020 and the testing to happen on the May 2020 - Oct 2021 data . We will be using the test_size param to set the test data set size. In the current inference we are using the 20% as test data"
   ]
  },
  {
   "cell_type": "code",
   "execution_count": 638,
   "id": "4066ec70-d6b8-4c10-a3ae-8c586f57fbd1",
   "metadata": {},
   "outputs": [],
   "source": [
    "X=goog_df[['Adj Close']].values\n",
    "y=goog_df[['EMA_10']].values\n",
    "X_train, X_test, y_train, y_test = train_test_split(X,y, test_size=.2,shuffle=False)\n"
   ]
  },
  {
   "cell_type": "markdown",
   "id": "912b3fe3-dd94-4c84-abc6-c692213dd242",
   "metadata": {},
   "source": [
    "Using the following cell we are creating the LinearRegression model and using the previously split dataset to train the model"
   ]
  },
  {
   "cell_type": "code",
   "execution_count": 639,
   "id": "86f8fa26-14fd-4ae1-8a48-81b5f712d4bd",
   "metadata": {},
   "outputs": [
    {
     "data": {
      "text/plain": [
       "LinearRegression()"
      ]
     },
     "execution_count": 639,
     "metadata": {},
     "output_type": "execute_result"
    }
   ],
   "source": [
    "\n",
    "# Create Regression Model\n",
    "model = LinearRegression()\n",
    "# Train the model\n",
    "model.fit(X_train,y_train)"
   ]
  },
  {
   "cell_type": "markdown",
   "id": "75b607d3-cdc0-4d1b-bc81-900fdbb1ce73",
   "metadata": {},
   "source": [
    "Using the trained model we are making the predictions"
   ]
  },
  {
   "cell_type": "code",
   "execution_count": 640,
   "id": "4109ec6a-5a0c-4b07-8e34-9e87d070826e",
   "metadata": {},
   "outputs": [],
   "source": [
    "y_pred=model.predict(X_test)"
   ]
  },
  {
   "cell_type": "markdown",
   "id": "d5f0a555-55b3-4207-ab2c-4d779beeb2c3",
   "metadata": {},
   "source": [
    "**Mean Absolute Error** (MAE) is the mean of the absolute value of the errors. It is calculated as:<br/>\n",
    "MAE = $\\frac{1}{n} \\sum_{i=1}^{n} |Actual - Predicted|$"
   ]
  },
  {
   "cell_type": "code",
   "execution_count": 641,
   "id": "337a262a-7652-4ade-88be-a579afed7a79",
   "metadata": {},
   "outputs": [
    {
     "name": "stdout",
     "output_type": "stream",
     "text": [
      "Intercept [14.3205927]\n",
      "Model Coefficients: [[0.98338303]]\n",
      "Mean Absolute Error: 32.80716674620222\n",
      "Coefficient of Determination: 0.9909873913454615\n"
     ]
    }
   ],
   "source": [
    "# Printout relevant metrics\n",
    "print(\"Intercept\", model.intercept_)\n",
    "print(\"Model Coefficients:\", model.coef_)\n",
    "print(\"Mean Absolute Error:\", mean_absolute_error(y_test, y_pred))\n",
    "print(\"Coefficient of Determination:\", r2_score(y_test, y_pred))"
   ]
  },
  {
   "cell_type": "markdown",
   "id": "b5d5680f-c40b-40b4-9620-8741569cd32b",
   "metadata": {},
   "source": [
    "We can list the actual and the predicted and can verify them using the following command"
   ]
  },
  {
   "cell_type": "code",
   "execution_count": 642,
   "id": "d8e50e17-3aca-476e-a447-bd93b0401981",
   "metadata": {},
   "outputs": [],
   "source": [
    "act_pred_goog_df = pd.DataFrame({'Actual': y_test.flatten(), 'Predicted': y_pred.flatten()})"
   ]
  },
  {
   "cell_type": "code",
   "execution_count": 643,
   "id": "0fc6560f-c078-43c6-a0a1-0cc5fc032394",
   "metadata": {},
   "outputs": [
    {
     "data": {
      "text/html": [
       "<div>\n",
       "<style scoped>\n",
       "    .dataframe tbody tr th:only-of-type {\n",
       "        vertical-align: middle;\n",
       "    }\n",
       "\n",
       "    .dataframe tbody tr th {\n",
       "        vertical-align: top;\n",
       "    }\n",
       "\n",
       "    .dataframe thead th {\n",
       "        text-align: right;\n",
       "    }\n",
       "</style>\n",
       "<table border=\"1\" class=\"dataframe\">\n",
       "  <thead>\n",
       "    <tr style=\"text-align: right;\">\n",
       "      <th></th>\n",
       "      <th>Actual</th>\n",
       "      <th>Predicted</th>\n",
       "    </tr>\n",
       "  </thead>\n",
       "  <tbody>\n",
       "    <tr>\n",
       "      <th>0</th>\n",
       "      <td>1531.415711</td>\n",
       "      <td>1569.786698</td>\n",
       "    </tr>\n",
       "    <tr>\n",
       "      <th>1</th>\n",
       "      <td>1540.325590</td>\n",
       "      <td>1568.478842</td>\n",
       "    </tr>\n",
       "    <tr>\n",
       "      <th>2</th>\n",
       "      <td>1549.030019</td>\n",
       "      <td>1576.129471</td>\n",
       "    </tr>\n",
       "    <tr>\n",
       "      <th>3</th>\n",
       "      <td>1559.791829</td>\n",
       "      <td>1595.816818</td>\n",
       "    </tr>\n",
       "    <tr>\n",
       "      <th>4</th>\n",
       "      <td>1576.626042</td>\n",
       "      <td>1639.243046</td>\n",
       "    </tr>\n",
       "    <tr>\n",
       "      <th>...</th>\n",
       "      <td>...</td>\n",
       "      <td>...</td>\n",
       "    </tr>\n",
       "    <tr>\n",
       "      <th>284</th>\n",
       "      <td>2743.942539</td>\n",
       "      <td>2715.752520</td>\n",
       "    </tr>\n",
       "    <tr>\n",
       "      <th>285</th>\n",
       "      <td>2751.172979</td>\n",
       "      <td>2751.773725</td>\n",
       "    </tr>\n",
       "    <tr>\n",
       "      <th>286</th>\n",
       "      <td>2760.254277</td>\n",
       "      <td>2768.894577</td>\n",
       "    </tr>\n",
       "    <tr>\n",
       "      <th>287</th>\n",
       "      <td>2763.289854</td>\n",
       "      <td>2745.126046</td>\n",
       "    </tr>\n",
       "    <tr>\n",
       "      <th>288</th>\n",
       "      <td>2758.011701</td>\n",
       "      <td>2703.145482</td>\n",
       "    </tr>\n",
       "  </tbody>\n",
       "</table>\n",
       "<p>289 rows × 2 columns</p>\n",
       "</div>"
      ],
      "text/plain": [
       "          Actual    Predicted\n",
       "0    1531.415711  1569.786698\n",
       "1    1540.325590  1568.478842\n",
       "2    1549.030019  1576.129471\n",
       "3    1559.791829  1595.816818\n",
       "4    1576.626042  1639.243046\n",
       "..           ...          ...\n",
       "284  2743.942539  2715.752520\n",
       "285  2751.172979  2751.773725\n",
       "286  2760.254277  2768.894577\n",
       "287  2763.289854  2745.126046\n",
       "288  2758.011701  2703.145482\n",
       "\n",
       "[289 rows x 2 columns]"
      ]
     },
     "execution_count": 643,
     "metadata": {},
     "output_type": "execute_result"
    }
   ],
   "source": [
    "act_pred_goog_df"
   ]
  },
  {
   "cell_type": "markdown",
   "id": "22f43fe0-1b66-436f-a156-44a46dd9c0f1",
   "metadata": {},
   "source": [
    "We can also plot them in a bar graph and can observe the difference between the actual and predicted price"
   ]
  },
  {
   "cell_type": "code",
   "execution_count": 644,
   "id": "326c5ff3-9e89-4b5a-83d1-db6378caee9a",
   "metadata": {},
   "outputs": [
    {
     "data": {
      "image/png": "[encoded data removed]",
      "text/plain": [
       "<Figure size 1152x720 with 1 Axes>"
      ]
     },
     "metadata": {
      "needs_background": "light"
     },
     "output_type": "display_data"
    }
   ],
   "source": [
    "goog_df2 = act_pred_tsla_df.head(20)\n",
    "goog_df2.plot(kind='bar',figsize=(16,10))\n",
    "plt.grid(which='major', linestyle='-', linewidth='0.5', color='green')\n",
    "plt.grid(which='minor', linestyle=':', linewidth='0.5', color='black')\n",
    "plt.show()"
   ]
  },
  {
   "cell_type": "code",
   "execution_count": 645,
   "id": "c6cc7154-383c-41d5-81f0-86fd98300f4c",
   "metadata": {},
   "outputs": [
    {
     "data": {
      "image/png": "[encoded data removed]",
      "text/plain": [
       "<Figure size 432x288 with 1 Axes>"
      ]
     },
     "metadata": {
      "needs_background": "light"
     },
     "output_type": "display_data"
    }
   ],
   "source": [
    "# Prediction vs Test Data\n",
    "plt.scatter(X_test, y_test,  color='gray')\n",
    "plt.plot(X_test, y_pred, color='red', linewidth=2)\n",
    "plt.show()"
   ]
  },
  {
   "cell_type": "code",
   "execution_count": null,
   "id": "d00348e1-957c-40a0-9e88-d594808a1305",
   "metadata": {},
   "outputs": [],
   "source": []
  }
 ],
 "metadata": {
  "kernelspec": {
   "display_name": "Python 3",
   "language": "python",
   "name": "python3"
  },
  "language_info": {
   "codemirror_mode": {
    "name": "ipython",
    "version": 3
   },
   "file_extension": ".py",
   "mimetype": "text/x-python",
   "name": "python",
   "nbconvert_exporter": "python",
   "pygments_lexer": "ipython3",
   "version": "3.8.8"
  }
 },
 "nbformat": 4,
 "nbformat_minor": 5
}
